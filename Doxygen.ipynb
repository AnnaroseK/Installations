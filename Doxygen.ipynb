{
  "nbformat": 4,
  "nbformat_minor": 0,
  "metadata": {
    "colab": {
      "name": "Doxygen.ipynb",
      "provenance": []
    },
    "kernelspec": {
      "name": "python3",
      "display_name": "Python 3"
    }
  },
  "cells": [
    {
      "cell_type": "code",
      "metadata": {
        "id": "DzVMWxePvfz-"
      },
      "source": [
        "git clone https://github.com/doxygen/doxygen.git\r\n",
        "%cd doxygen"
      ],
      "execution_count": null,
      "outputs": []
    },
    {
      "cell_type": "markdown",
      "metadata": {
        "id": "yMQ3FRpgvmra"
      },
      "source": [
        "This is for installing doxygen in linux"
      ]
    },
    {
      "cell_type": "code",
      "metadata": {
        "id": "aP00VWfCvvZA"
      },
      "source": [
        "! sudo apt-get install flex \r\n",
        "! sudo apt-get install bison"
      ],
      "execution_count": null,
      "outputs": []
    },
    {
      "cell_type": "markdown",
      "metadata": {
        "id": "F2KVuHeFv0Mi"
      },
      "source": [
        "I installed this because of error in installing"
      ]
    },
    {
      "cell_type": "code",
      "metadata": {
        "id": "dM7LyqObv64C"
      },
      "source": [
        "!mkdir build\r\n",
        "%cd build\r\n",
        "!cmake -G \"Unix Makefiles\" ..\r\n",
        "!make\r\n",
        "! make install"
      ],
      "execution_count": null,
      "outputs": []
    }
  ]
}